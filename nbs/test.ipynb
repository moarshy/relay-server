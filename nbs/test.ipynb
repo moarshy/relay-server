{
 "cells": [
  {
   "cell_type": "code",
   "execution_count": 17,
   "metadata": {},
   "outputs": [],
   "source": [
    "import requests"
   ]
  },
  {
   "cell_type": "code",
   "execution_count": 18,
   "metadata": {},
   "outputs": [
    {
     "name": "stdout",
     "output_type": "stream",
     "text": [
      "200\n",
      "{'status': 'Message sent'}\n"
     ]
    }
   ],
   "source": [
    "u = \"http://localhost:8000/send_message/\"\n",
    "\n",
    "r = requests.post(u, json={\n",
    "    \"target_node_id\": \"node_2\", \n",
    "    \"message\": {\n",
    "        \"type\": \"text\",\n",
    "        \"content\": \"Hello\"\n",
    "    }\n",
    "})\n",
    "print(r.status_code)\n",
    "print(r.json())\n",
    "\n"
   ]
  },
  {
   "cell_type": "code",
   "execution_count": 19,
   "metadata": {},
   "outputs": [
    {
     "name": "stdout",
     "output_type": "stream",
     "text": [
      "200\n",
      "{'status': 'Message sent'}\n"
     ]
    }
   ],
   "source": [
    "u = \"http://localhost:8001/send_message/\"\n",
    "\n",
    "r = requests.post(u, json={\n",
    "    \"target_node_id\": \"node_1\", \n",
    "    \"message\": {\n",
    "        \"type\": \"text\",\n",
    "        \"content\": \"Hello\"\n",
    "    }\n",
    "})\n",
    "print(r.status_code)\n",
    "print(r.json())\n",
    "\n"
   ]
  },
  {
   "cell_type": "code",
   "execution_count": null,
   "metadata": {},
   "outputs": [],
   "source": []
  }
 ],
 "metadata": {
  "kernelspec": {
   "display_name": "akash",
   "language": "python",
   "name": "python3"
  },
  "language_info": {
   "codemirror_mode": {
    "name": "ipython",
    "version": 3
   },
   "file_extension": ".py",
   "mimetype": "text/x-python",
   "name": "python",
   "nbconvert_exporter": "python",
   "pygments_lexer": "ipython3",
   "version": "3.10.14"
  }
 },
 "nbformat": 4,
 "nbformat_minor": 2
}
